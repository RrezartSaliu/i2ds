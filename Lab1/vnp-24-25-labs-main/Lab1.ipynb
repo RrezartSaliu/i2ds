{
  "cells": [
    {
      "cell_type": "markdown",
      "metadata": {
        "id": "skreU4ZawqQ_"
      },
      "source": [
        "# Lab Exercise 1. Scraping Static Websites\n"
      ]
    },
    {
      "cell_type": "markdown",
      "metadata": {
        "id": "VzAWoqz5wwT9"
      },
      "source": [
        "This is the warmup task for the first laboratory exercise. It consists of scraping static Websites with BeautifulSoap.\n",
        "\n",
        " It should be completed at home and presented at the laboratory."
      ]
    },
    {
      "cell_type": "markdown",
      "metadata": {
        "id": "qpdvbrsow5EE"
      },
      "source": [
        "**Total points: 2**"
      ]
    },
    {
      "cell_type": "markdown",
      "metadata": {
        "id": "6eDmGLrXx0t8"
      },
      "source": [
        "### Task Description"
      ]
    },
    {
      "cell_type": "markdown",
      "metadata": {
        "id": "RG42MHsDxAP_"
      },
      "source": [
        "Scrape the information about the products on the following page:\n",
        "https://clevershop.mk/product-category/mobilni-laptopi-i-tableti/"
      ]
    },
    {
      "cell_type": "markdown",
      "metadata": {
        "id": "uoTcMRl4xP3G"
      },
      "source": [
        "For each product scrape:\n",
        "\n",
        "\n",
        "*   Product title (selector `'.wd-entities-title'`)\n",
        "*   Product regular price (selector `'.woocommerce-Price-amount'`)\n",
        "*   Product discount price (if available), same selector as regular price\n",
        "*   URL to the product page\n",
        "*   Add to cart button URL\n",
        "\n",
        "***Help: There are multiple product pages, for each page you need to send a separate request***\n"
      ]
    },
    {
      "cell_type": "markdown",
      "metadata": {
        "id": "tc0QvUR8xxwt"
      },
      "source": [
        "Save the results as a DataFrame object"
      ]
    },
    {
      "cell_type": "markdown",
      "metadata": {
        "id": "peGjiUZLzbZt"
      },
      "source": [
        "You can add as many code cells as you need."
      ]
    },
    {
      "cell_type": "markdown",
      "metadata": {
        "id": "b7U-kwKSzUIV"
      },
      "source": [
        "________________________________________________________________"
      ]
    },
    {
      "cell_type": "markdown",
      "metadata": {
        "id": "yn5gyMzNx5Vk"
      },
      "source": [
        "### Requirements"
      ]
    },
    {
      "cell_type": "markdown",
      "metadata": {
        "id": "WZ3ifNLhx7tk"
      },
      "source": [
        "Import libraries and modules that you are going to use"
      ]
    },
    {
      "cell_type": "code",
      "execution_count": 2,
      "metadata": {
        "id": "GQ3zSO8WyJC_"
      },
      "outputs": [],
      "source": [
        "from bs4 import BeautifulSoup\n",
        "import requests\n",
        "import pandas as pd"
      ]
    },
    {
      "cell_type": "markdown",
      "metadata": {
        "id": "fsR71mugyJP7"
      },
      "source": [
        "### Send HTTP request to the target Website"
      ]
    },
    {
      "cell_type": "code",
      "execution_count": 3,
      "metadata": {
        "id": "61ImGen2yQff"
      },
      "outputs": [],
      "source": [
        "response = requests.get(\"https://clevershop.mk/product-category/mobilni-laptopi-i-tableti/\")"
      ]
    },
    {
      "cell_type": "markdown",
      "metadata": {
        "id": "lFnRsSVJyXit"
      },
      "source": [
        "check the response status code"
      ]
    },
    {
      "cell_type": "code",
      "execution_count": 6,
      "metadata": {
        "id": "xy6xJ3RGyXUN"
      },
      "outputs": [
        {
          "name": "stdout",
          "output_type": "stream",
          "text": [
            "200\n"
          ]
        }
      ],
      "source": [
        "print(response.status_code)"
      ]
    },
    {
      "cell_type": "markdown",
      "metadata": {
        "id": "-MykzAV4yQ4j"
      },
      "source": [
        "### Parse the response content with BeautifulSoap"
      ]
    },
    {
      "cell_type": "code",
      "execution_count": 8,
      "metadata": {
        "id": "F92A3wvlyUBc"
      },
      "outputs": [],
      "source": [
        "soup = BeautifulSoup(response.content, \"html.parser\")"
      ]
    },
    {
      "cell_type": "markdown",
      "metadata": {
        "id": "F8hifMvVycfV"
      },
      "source": [
        "### Extract data from the BeautifulSoap object using any selectors, attribute identifiers, etc."
      ]
    },
    {
      "cell_type": "markdown",
      "metadata": {
        "id": "sHgfHr61y2tD"
      },
      "source": [
        "* Product title (selector '.wd-entities-title')\n",
        "* Product regular price (selector '.woocommerce-Price-amount')\n",
        "* Product discount price (if available), same selector as regular price\n",
        "* URL to the product page\n",
        "* Add to cart button URL"
      ]
    },
    {
      "cell_type": "code",
      "execution_count": 9,
      "metadata": {
        "id": "UV1kZCRyycQF"
      },
      "outputs": [
        {
          "name": "stdout",
          "output_type": "stream",
          "text": [
            "Title: Acer A315-23-A7KD\n",
            "Regular Price: 17.590 ден\n",
            "Discount Price: None\n",
            "Product URL: https://clevershop.mk/product/acer-a315-23-a7kd/\n",
            "Add to Cart URL: ?add-to-cart=21494\n",
            "Title: Acer A315-23-R5P2\n",
            "Regular Price: 27.490 ден\n",
            "Discount Price: None\n",
            "Product URL: https://clevershop.mk/product/acer-a315-23-r5p2/\n",
            "Add to Cart URL: ?add-to-cart=21510\n",
            "Title: ACER Aspire 1 A115-22\n",
            "Regular Price: 18.999 ден\n",
            "Discount Price: 15.999 ден\n",
            "Product URL: https://clevershop.mk/product/acer-aspire-1-nx-a7pex-001/\n",
            "Add to Cart URL: ?add-to-cart=20826\n",
            "Title: Acer Aspire 3 A315-23-R26A\n",
            "Regular Price: 29.990 ден\n",
            "Discount Price: None\n",
            "Product URL: https://clevershop.mk/product/acer-aspire-3-a315-23-r26a/\n",
            "Add to Cart URL: ?add-to-cart=21516\n",
            "Title: Acer Aspire 3 A315-58-33WK\n",
            "Regular Price: 24.490 ден\n",
            "Discount Price: None\n",
            "Product URL: https://clevershop.mk/product/21498/\n",
            "Add to Cart URL: ?add-to-cart=21498\n",
            "Title: Acer Aspire 3 A315-58-33WK\n",
            "Regular Price: 25.990 ден\n",
            "Discount Price: None\n",
            "Product URL: https://clevershop.mk/product/acer-aspire-3-a315-58-33wk/\n",
            "Add to Cart URL: ?add-to-cart=21506\n",
            "Title: ACER Aspire 5 (A515-56-35KA)\n",
            "Regular Price: 23.990 ден\n",
            "Discount Price: None\n",
            "Product URL: https://clevershop.mk/product/acer-aspire-5-a515-56-35ka/\n",
            "Add to Cart URL: ?add-to-cart=21693\n",
            "Title: ACER ASPIRE 5 A515-45\n",
            "Regular Price: 29.990 ден\n",
            "Discount Price: None\n",
            "Product URL: https://clevershop.mk/product/acer-aspire-5-a515-45/\n",
            "Add to Cart URL: ?add-to-cart=21523\n",
            "Title: Acer Aspire 5 A515-45-R07Y Silver\n",
            "Regular Price: 24.990 ден\n",
            "Discount Price: None\n",
            "Product URL: https://clevershop.mk/product/acer-aspire-5-a515-45-r07y-silver/\n",
            "Add to Cart URL: ?add-to-cart=21501\n",
            "Title: Acer Aspire 5 A515-45-R1FG\n",
            "Regular Price: 36.990 ден\n",
            "Discount Price: None\n",
            "Product URL: https://clevershop.mk/product/acer-aspire-5-a515-45-r1fgnx-a7yex-005/\n",
            "Add to Cart URL: ?add-to-cart=18324\n",
            "Title: Acer Aspire 5 A515-56\n",
            "Regular Price: 42.490 ден\n",
            "Discount Price: None\n",
            "Product URL: https://clevershop.mk/product/acer-aspire-5-a515-56-nx-a1eex-001/\n",
            "Add to Cart URL: ?add-to-cart=18498\n",
            "Title: Acer Aspire 5 A515-56-3456 Silver\n",
            "Regular Price: 23.990 ден\n",
            "Discount Price: None\n",
            "Product URL: https://clevershop.mk/product/acer-aspire-5-a515-56-3456-silver/\n",
            "Add to Cart URL: ?add-to-cart=21690\n",
            "Title: ACER Aspire 7 (A715-41G-R24S), Black\n",
            "Regular Price: 42.990 ден\n",
            "Discount Price: None\n",
            "Product URL: https://clevershop.mk/product/acer-aspire-7-a715-41g-r24s-black/\n",
            "Add to Cart URL: ?add-to-cart=21695\n",
            "Title: Acer Aspire 7 A715-42G-R16C\n",
            "Regular Price: 54.490 ден\n",
            "Discount Price: 48.490 ден\n",
            "Product URL: https://clevershop.mk/product/acer-aspire-7-a715-42g-r16c-nh-qe5ex-003/\n",
            "Add to Cart URL: ?add-to-cart=18506\n",
            "Title: ACER ED270RPBIIPX 27′ LED VA FHD\n",
            "Regular Price: 14.490 ден\n",
            "Discount Price: None\n",
            "Product URL: https://clevershop.mk/product/acer-ed270rpbiipx-27-led-va-fhd/\n",
            "Add to Cart URL: ?add-to-cart=21728\n",
            "Title: ACER ED273BBMIIX 27′ LED VA FHD\n",
            "Regular Price: 11.990 ден\n",
            "Discount Price: None\n",
            "Product URL: https://clevershop.mk/product/acer-ed273bbmiix-27-led-va-fhd/\n",
            "Add to Cart URL: ?add-to-cart=21734\n",
            "Title: ACER ED323QURABIDPX 32” LED VA WQHD\n",
            "Regular Price: 20.990 ден\n",
            "Discount Price: None\n",
            "Product URL: https://clevershop.mk/product/acer-ed323qurabidpx-32-led-va-wqhd/\n",
            "Add to Cart URL: ?add-to-cart=21737\n",
            "Title: ACER K272HLEbid 27” LED VA FHD\n",
            "Regular Price: 9.690 ден\n",
            "Discount Price: None\n",
            "Product URL: https://clevershop.mk/product/21743/\n",
            "Add to Cart URL: ?add-to-cart=21743\n",
            "Title: ACER LED 19.5”, V206HQLAB, Wide\n",
            "Regular Price: 5.290 ден\n",
            "Discount Price: None\n",
            "Product URL: https://clevershop.mk/product/acer-led-19-5-v206hqlab-wide/\n",
            "Add to Cart URL: ?add-to-cart=21750\n",
            "Title: ACER LED, 21.5” V226HQLBbi\n",
            "Regular Price: 6.290 ден\n",
            "Discount Price: None\n",
            "Product URL: https://clevershop.mk/product/acer-led-21-5-v226hqlbbi/\n",
            "Add to Cart URL: ?add-to-cart=21755\n",
            "Title: ACER Nitro 5 (AN515-57-53A7)\n",
            "Regular Price: 51.990 ден\n",
            "Discount Price: None\n",
            "Product URL: https://clevershop.mk/product/acer-nitro-5-an515-57-53a7/\n",
            "Add to Cart URL: ?add-to-cart=21706\n",
            "Title: Acer Nitro 5 (AN515-57-53AE)\n",
            "Regular Price: 47.990 ден\n",
            "Discount Price: None\n",
            "Product URL: https://clevershop.mk/product/acer-nitro-5-an515-57/\n",
            "Add to Cart URL: ?add-to-cart=21716\n",
            "Title: Acer Nitro 5 (AN515-57-76C9)\n",
            "Regular Price: 60.990 ден\n",
            "Discount Price: None\n",
            "Product URL: https://clevershop.mk/product/acer-nitro-5-an515-57-2/\n",
            "Add to Cart URL: ?add-to-cart=21718\n",
            "Title: Acer Nitro 5 Gaming AN515-45\n",
            "Regular Price: 71.990 ден\n",
            "Discount Price: None\n",
            "Product URL: https://clevershop.mk/product/acer-nitro-5-gaming-an515-45/\n",
            "Add to Cart URL: ?add-to-cart=21406\n"
          ]
        }
      ],
      "source": [
        "products = soup.select('.product') \n",
        "for product in products:\n",
        "    title = product.select_one('.wd-entities-title').text.strip()\n",
        "    \n",
        "    prices = product.select('.woocommerce-Price-amount')\n",
        "    regular_price = prices[0].text.strip() if prices else None\n",
        "    discount_price = prices[1].text.strip() if len(prices) > 1 else None\n",
        "\n",
        "    product_url = product.select_one('a')['href']\n",
        "    \n",
        "    add_to_cart_url = product.select_one('.add_to_cart_button')['href'] if product.select_one('.add_to_cart_button') else None\n",
        "\n",
        "    print(\"Title:\", title)\n",
        "    print(\"Regular Price:\", regular_price)\n",
        "    print(\"Discount Price:\", discount_price)\n",
        "    print(\"Product URL:\", product_url)\n",
        "    print(\"Add to Cart URL:\", add_to_cart_url)"
      ]
    },
    {
      "cell_type": "markdown",
      "metadata": {
        "id": "gToy7d5Jy9Qk"
      },
      "source": [
        "Repeat the extraction process for each page of products"
      ]
    },
    {
      "cell_type": "code",
      "execution_count": 10,
      "metadata": {
        "id": "rVdYuEv3zArs"
      },
      "outputs": [
        {
          "name": "stdout",
          "output_type": "stream",
          "text": [
            "Scraping: https://clevershop.mk/product-category/mobilni-laptopi-i-tableti/\n",
            "Response Status Code: 200\n",
            "Scraping: https://clevershop.mk/product-category/mobilni-laptopi-i-tableti/page/2/\n",
            "Response Status Code: 200\n",
            "Scraping: https://clevershop.mk/product-category/mobilni-laptopi-i-tableti/page/3/\n",
            "Response Status Code: 200\n",
            "Scraping: https://clevershop.mk/product-category/mobilni-laptopi-i-tableti/page/4/\n",
            "Response Status Code: 200\n",
            "Scraping: https://clevershop.mk/product-category/mobilni-laptopi-i-tableti/page/5/\n",
            "Response Status Code: 200\n",
            "Scraping: https://clevershop.mk/product-category/mobilni-laptopi-i-tableti/page/6/\n",
            "Response Status Code: 200\n",
            "Scraping: https://clevershop.mk/product-category/mobilni-laptopi-i-tableti/page/7/\n",
            "Response Status Code: 200\n",
            "Scraping: https://clevershop.mk/product-category/mobilni-laptopi-i-tableti/page/8/\n",
            "Response Status Code: 200\n",
            "Scraping: https://clevershop.mk/product-category/mobilni-laptopi-i-tableti/page/9/\n",
            "Response Status Code: 200\n",
            "Scraping: https://clevershop.mk/product-category/mobilni-laptopi-i-tableti/page/10/\n",
            "Response Status Code: 200\n",
            "Scraping: https://clevershop.mk/product-category/mobilni-laptopi-i-tableti/page/11/\n",
            "Response Status Code: 200\n",
            "Scraping: https://clevershop.mk/product-category/mobilni-laptopi-i-tableti/page/12/\n",
            "Response Status Code: 200\n",
            "Scraping: https://clevershop.mk/product-category/mobilni-laptopi-i-tableti/page/13/\n",
            "Response Status Code: 200\n",
            "Scraping: https://clevershop.mk/product-category/mobilni-laptopi-i-tableti/page/14/\n",
            "Response Status Code: 200\n",
            "Scraping: https://clevershop.mk/product-category/mobilni-laptopi-i-tableti/page/15/\n",
            "Response Status Code: 404\n",
            "                                                 Title Regular Price  \\\n",
            "0                                    Acer A315-23-A7KD    17.590 ден   \n",
            "1                                    Acer A315-23-R5P2    27.490 ден   \n",
            "2                                ACER Aspire 1 A115-22    18.999 ден   \n",
            "3                           Acer Aspire 3 A315-23-R26A    29.990 ден   \n",
            "4                           Acer Aspire 3 A315-58-33WK    24.490 ден   \n",
            "..                                                 ...           ...   \n",
            "315        Monitor 27 Philips 272E1GAJ/00 VA 1ms 144Hz    12.890 ден   \n",
            "316                              Philips 24″ 243V7QDSB     8.390 ден   \n",
            "317                   Philips 27″ 278E1A/00 4K UHD IPS    18.990 ден   \n",
            "318  Philips 279C9-00 MON LED 27″ 3840 x 2160 5Ms 6...    26.990 ден   \n",
            "319                      Xiaomi Redmi AirDots Wireless       990 ден   \n",
            "\n",
            "    Discount Price                                        Product URL  \\\n",
            "0             None   https://clevershop.mk/product/acer-a315-23-a7kd/   \n",
            "1             None   https://clevershop.mk/product/acer-a315-23-r5p2/   \n",
            "2       15.999 ден  https://clevershop.mk/product/acer-aspire-1-nx...   \n",
            "3             None  https://clevershop.mk/product/acer-aspire-3-a3...   \n",
            "4             None               https://clevershop.mk/product/21498/   \n",
            "..             ...                                                ...   \n",
            "315           None  https://clevershop.mk/product/monitor-27-phili...   \n",
            "316           None  https://clevershop.mk/product/philips-24%e2%80...   \n",
            "317           None  https://clevershop.mk/product/hp-27%e2%80%b3-2...   \n",
            "318           None  https://clevershop.mk/product/philips-279c9-00...   \n",
            "319           None    https://clevershop.mk/product/redmi-headphones/   \n",
            "\n",
            "        Add to Cart URL  \n",
            "0    ?add-to-cart=21494  \n",
            "1    ?add-to-cart=21510  \n",
            "2    ?add-to-cart=20826  \n",
            "3    ?add-to-cart=21516  \n",
            "4    ?add-to-cart=21498  \n",
            "..                  ...  \n",
            "315  ?add-to-cart=12618  \n",
            "316  ?add-to-cart=12396  \n",
            "317  ?add-to-cart=12218  \n",
            "318  ?add-to-cart=12578  \n",
            "319  ?add-to-cart=10663  \n",
            "\n",
            "[320 rows x 5 columns]\n"
          ]
        }
      ],
      "source": [
        "base_url = \"https://clevershop.mk/product-category/mobilni-laptopi-i-tableti/\"\n",
        "\n",
        "all_products = []\n",
        "\n",
        "page_number = 1\n",
        "while True:\n",
        "    url = f\"{base_url}page/{page_number}/\" if page_number > 1 else base_url\n",
        "    print(f\"Scraping: {url}\")\n",
        "\n",
        "    response = requests.get(url)\n",
        "    print(\"Response Status Code:\", response.status_code)\n",
        "\n",
        "    if response.status_code != 200:\n",
        "        break\n",
        "\n",
        "    soup = BeautifulSoup(response.content, \"html.parser\")\n",
        "\n",
        "    products = soup.select('.product')\n",
        "    \n",
        "    if not products:\n",
        "        print(\"No more products found. Exiting.\")\n",
        "        break\n",
        "\n",
        "    for product in products:\n",
        "        title = product.select_one('.wd-entities-title').text.strip()\n",
        "        \n",
        "        prices = product.select('.woocommerce-Price-amount')\n",
        "        regular_price = prices[0].text.strip() if prices else None\n",
        "        discount_price = prices[1].text.strip() if len(prices) > 1 else None\n",
        "\n",
        "        product_url = product.select_one('a')['href']\n",
        "        \n",
        "        add_to_cart_url = product.select_one('.add_to_cart_button')['href'] if product.select_one('.add_to_cart_button') else None\n",
        "\n",
        "        all_products.append({\n",
        "            \"Title\": title,\n",
        "            \"Regular Price\": regular_price,\n",
        "            \"Discount Price\": discount_price,\n",
        "            \"Product URL\": product_url,\n",
        "            \"Add to Cart URL\": add_to_cart_url\n",
        "        })\n",
        "\n",
        "    page_number += 1\n",
        "\n",
        "df = pd.DataFrame(all_products)\n",
        "\n",
        "print(df)"
      ]
    },
    {
      "cell_type": "markdown",
      "metadata": {
        "id": "R4OIUt0AynuU"
      },
      "source": [
        "### Create a pandas DataFrame with the scraped products"
      ]
    },
    {
      "cell_type": "code",
      "execution_count": 12,
      "metadata": {
        "id": "-wCzGEj8yrKU"
      },
      "outputs": [],
      "source": [
        "df = pd.DataFrame(all_products)"
      ]
    },
    {
      "cell_type": "markdown",
      "metadata": {
        "id": "Rxbi54EOyrb8"
      },
      "source": [
        "Save the dataframe as `.csv`"
      ]
    },
    {
      "cell_type": "code",
      "execution_count": 13,
      "metadata": {
        "id": "TLNfZQ07yuQE"
      },
      "outputs": [],
      "source": [
        "df.to_csv(\"scraped_products.csv\", index=False)"
      ]
    }
  ],
  "metadata": {
    "colab": {
      "provenance": []
    },
    "kernelspec": {
      "display_name": "Python 3",
      "name": "python3"
    },
    "language_info": {
      "codemirror_mode": {
        "name": "ipython",
        "version": 3
      },
      "file_extension": ".py",
      "mimetype": "text/x-python",
      "name": "python",
      "nbconvert_exporter": "python",
      "pygments_lexer": "ipython3",
      "version": "3.10.4"
    }
  },
  "nbformat": 4,
  "nbformat_minor": 0
}
