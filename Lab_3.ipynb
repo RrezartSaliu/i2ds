{
 "cells": [
  {
   "cell_type": "markdown",
   "metadata": {
    "colab_type": "text",
    "id": "view-in-github"
   },
   "source": [
    "<a href=\"https://colab.research.google.com/github/jovanadobreva/Labs-I2DS/blob/main/Lab_3.ipynb\" target=\"_parent\"><img src=\"https://colab.research.google.com/assets/colab-badge.svg\" alt=\"Open In Colab\"/></a>"
   ]
  },
  {
   "cell_type": "markdown",
   "metadata": {
    "id": "v8vsWahSyK_i"
   },
   "source": [
    "# Decision Trees and Gradient Boosting"
   ]
  },
  {
   "cell_type": "markdown",
   "metadata": {
    "id": "G4FVV4npyYwk"
   },
   "source": [
    "## Setting up the Environment"
   ]
  },
  {
   "cell_type": "markdown",
   "metadata": {
    "id": "oqOCwZN6yb5y"
   },
   "source": [
    "For this laboratory exercise, you will need to install the Anaconda package & environment manager. We will install a minimal distribution, [Miniconda](https://docs.conda.io/projects/miniconda/en/latest/). Choose the adequate distribution for your operating system, download and install it."
   ]
  },
  {
   "cell_type": "markdown",
   "metadata": {
    "id": "8spwO4azzN36"
   },
   "source": [
    "Or use the following commands:\n",
    "\n",
    "### Windows\n",
    "```shell\n",
    "curl https://repo.anaconda.com/miniconda/Miniconda3-latest-Windows-x86_64.exe -o miniconda.exe\n",
    "start /wait \"\" miniconda.exe /S\n",
    "del miniconda.exe\n",
    "```\n",
    "\n",
    "### Linux\n",
    "```shell\n",
    "mkdir -p ~/miniconda3\n",
    "wget https://repo.anaconda.com/miniconda/Miniconda3-latest-Linux-x86_64.sh -O ~/miniconda3/miniconda.sh\n",
    "bash ~/miniconda3/miniconda.sh -b -u -p ~/miniconda3\n",
    "rm -rf ~/miniconda3/miniconda.sh\n",
    "```\n",
    "\n",
    "### macOS\n",
    "\n",
    "```shell\n",
    "mkdir -p ~/miniconda3\n",
    "curl https://repo.anaconda.com/miniconda/Miniconda3-latest-MacOSX-arm64.sh -o ~/miniconda3/miniconda.sh\n",
    "bash ~/miniconda3/miniconda.sh -b -u -p ~/miniconda3\n",
    "rm -rf ~/miniconda3/miniconda.sh\n",
    "```\n",
    "\n",
    "For both Linux and macOS after installing, initialize your newly-installed Miniconda. The following commands initialize for bash and zsh shells:\n",
    "\n",
    "```shell\n",
    "~/miniconda3/bin/conda init bash\n",
    "~/miniconda3/bin/conda init zsh\n",
    "```\n"
   ]
  },
  {
   "cell_type": "markdown",
   "metadata": {
    "id": "TpcSfn6YzKKq"
   },
   "source": [
    "Once you have installed miniconda, run the following commands to create an environment:\n",
    "```bash\n",
    "conda create --name myenv\n",
    "```\n",
    "\n",
    "'myenv' is the name of the environment, you can change the name however you want.\n",
    "\n",
    "When conda asks you to proceed, type y"
   ]
  },
  {
   "cell_type": "markdown",
   "metadata": {
    "id": "y50T_G3h0DLA"
   },
   "source": [
    "After successfully creating the environment, activate it with the following command:\n",
    "```bash\n",
    "conda activate myenv\n",
    "```"
   ]
  },
  {
   "cell_type": "markdown",
   "metadata": {
    "id": "sqbnCQZv0cJw"
   },
   "source": [
    "For more detailed information you can read the [documentation](https://conda.io/projects/conda/en/latest/user-guide/tasks/manage-environments.html#creating-an-environment-with-commands)."
   ]
  },
  {
   "cell_type": "markdown",
   "metadata": {
    "id": "7XcNMost0mRq"
   },
   "source": [
    "Now, once the environment is activated, proceed to install the required libraries.\n",
    "\n",
    "```bash\n",
    "pip install numpy pandas scikit-learn xgboost matplotlib seaborn gdown\n",
    "```"
   ]
  },
  {
   "cell_type": "markdown",
   "metadata": {
    "id": "rLANBz1Wv7rp"
   },
   "source": [
    "In the next step, we need to add the environment to jupyter. Use the following commands to install ipykernel and add the environment to ipykernel.\n",
    "\n",
    "```bash\n",
    "pip install ipykernel\n",
    "```\n",
    "```bash\n",
    "python -m ipykernel install --name=myenv\n",
    "```\n"
   ]
  },
  {
   "cell_type": "markdown",
   "metadata": {
    "id": "aUFIbeBt1kaS"
   },
   "source": [
    "Next, start Jupyter Notebook, download this starter notebook and open it. On the dropdown menu in the Kernel tab choose the name of the environment you created, like in the picture below.\n"
   ]
  },
  {
   "cell_type": "markdown",
   "metadata": {
    "id": "VwoFV34V2w2h"
   },
   "source": [
    "![jupyter](https://drive.google.com/uc?export=view&id=1N-27jjlIgpTILi-_6lny7ng8sE52SAZx)\n"
   ]
  },
  {
   "cell_type": "markdown",
   "metadata": {
    "id": "OpVoOwf6yO4i"
   },
   "source": [
    "## Download and Read the Dataset"
   ]
  },
  {
   "cell_type": "markdown",
   "metadata": {
    "id": "ohM0n8FwyR9n"
   },
   "source": [
    "run the code below for downloading the dataset"
   ]
  },
  {
   "cell_type": "code",
   "execution_count": 7,
   "metadata": {
    "colab": {
     "base_uri": "https://localhost:8080/"
    },
    "id": "RUsX6rH0ur_7",
    "outputId": "d9de818d-8a7b-4702-e35a-2dfcbfa99efb"
   },
   "outputs": [
    {
     "name": "stderr",
     "output_type": "stream",
     "text": [
      "Downloading...\n",
      "From: https://drive.google.com/uc?id=1boIax8d9Sat6OJzkiIjjpqmtSZKuRYrx\n",
      "To: C:\\Users\\saliu\\ElectricCarData.csv\n",
      "\n",
      "  0%|          | 0.00/8.20k [00:00<?, ?B/s]\n",
      "100%|##########| 8.20k/8.20k [00:00<00:00, 8.20MB/s]\n"
     ]
    }
   ],
   "source": [
    "!gdown 1boIax8d9Sat6OJzkiIjjpqmtSZKuRYrx"
   ]
  },
  {
   "cell_type": "markdown",
   "metadata": {
    "id": "I1ZTcNVV32yk"
   },
   "source": [
    "### Import the required libraries"
   ]
  },
  {
   "cell_type": "code",
   "execution_count": 1,
   "metadata": {
    "id": "M7Phib8Y3eqe"
   },
   "outputs": [],
   "source": [
    "import pandas as pd"
   ]
  },
  {
   "cell_type": "markdown",
   "metadata": {
    "id": "wk0MCMKH35Ba"
   },
   "source": [
    "### Read the dataset"
   ]
  },
  {
   "cell_type": "markdown",
   "metadata": {
    "id": "pSBxYm244IcC"
   },
   "source": [
    "CONTEXT:\n",
    "This is a dataset of electric vehicles.\n",
    "\n",
    "It contains the following columns:\n",
    "\n",
    "\n",
    "*   Brand\n",
    "*   Model\n",
    "*   AccelSec - Acceleration as 0-100 km/h\n",
    "*   TopSpeed_KmH - The top speed in km/h\n",
    "*   Range_Km - Range in km\n",
    "*   Efficiency_WhKm - Efficiency Wh/km\n",
    "*   FastCharge_KmH - Charge km/h\n",
    "*   RapidCharge - Yes / No\n",
    "*   PowerTrain - Front, rear, or all wheel drive\n",
    "*   PlugType\n",
    "*   BodyStyle - Basic size or style\n",
    "*   Segment - Market segment\n",
    "*   Seats - Number of seats\n",
    "*   PriceEuro - Price in Germany before tax incentives\n",
    "\n",
    "\n"
   ]
  },
  {
   "cell_type": "markdown",
   "metadata": {
    "id": "ikjYEe5T5O8o"
   },
   "source": [
    "TASK:\n",
    "Predict the target 'PriceEuro' and compare the performance of the DecisionTreeRegressor and the XGBRegressor models."
   ]
  },
  {
   "cell_type": "code",
   "execution_count": 7,
   "metadata": {},
   "outputs": [
    {
     "name": "stdout",
     "output_type": "stream",
     "text": [
      "C:\\Users\\saliu\n"
     ]
    }
   ],
   "source": [
    "import os\n",
    "\n",
    "print(os.getcwd())"
   ]
  },
  {
   "cell_type": "code",
   "execution_count": 19,
   "metadata": {
    "id": "aN-khP-Q3sau"
   },
   "outputs": [],
   "source": [
    "data = pd.read_csv('ElectricCarData.csv')"
   ]
  },
  {
   "cell_type": "code",
   "execution_count": 21,
   "metadata": {
    "colab": {
     "base_uri": "https://localhost:8080/",
     "height": 293
    },
    "id": "qfrbPmjm4Dxq",
    "outputId": "c8f58f32-2af1-4291-8278-c0eeb158bf79"
   },
   "outputs": [
    {
     "data": {
      "text/html": [
       "<div>\n",
       "<style scoped>\n",
       "    .dataframe tbody tr th:only-of-type {\n",
       "        vertical-align: middle;\n",
       "    }\n",
       "\n",
       "    .dataframe tbody tr th {\n",
       "        vertical-align: top;\n",
       "    }\n",
       "\n",
       "    .dataframe thead th {\n",
       "        text-align: right;\n",
       "    }\n",
       "</style>\n",
       "<table border=\"1\" class=\"dataframe\">\n",
       "  <thead>\n",
       "    <tr style=\"text-align: right;\">\n",
       "      <th></th>\n",
       "      <th>Brand</th>\n",
       "      <th>Model</th>\n",
       "      <th>AccelSec</th>\n",
       "      <th>TopSpeed_KmH</th>\n",
       "      <th>Range_Km</th>\n",
       "      <th>Efficiency_WhKm</th>\n",
       "      <th>FastCharge_KmH</th>\n",
       "      <th>RapidCharge</th>\n",
       "      <th>PowerTrain</th>\n",
       "      <th>PlugType</th>\n",
       "      <th>BodyStyle</th>\n",
       "      <th>Segment</th>\n",
       "      <th>Seats</th>\n",
       "      <th>PriceEuro</th>\n",
       "    </tr>\n",
       "  </thead>\n",
       "  <tbody>\n",
       "    <tr>\n",
       "      <th>0</th>\n",
       "      <td>Tesla</td>\n",
       "      <td>Model 3 Long Range Dual Motor</td>\n",
       "      <td>4.6</td>\n",
       "      <td>233</td>\n",
       "      <td>450</td>\n",
       "      <td>161</td>\n",
       "      <td>940</td>\n",
       "      <td>Yes</td>\n",
       "      <td>AWD</td>\n",
       "      <td>Type 2 CCS</td>\n",
       "      <td>Sedan</td>\n",
       "      <td>D</td>\n",
       "      <td>5</td>\n",
       "      <td>55480</td>\n",
       "    </tr>\n",
       "    <tr>\n",
       "      <th>1</th>\n",
       "      <td>Volkswagen</td>\n",
       "      <td>ID.3 Pure</td>\n",
       "      <td>10.0</td>\n",
       "      <td>160</td>\n",
       "      <td>270</td>\n",
       "      <td>167</td>\n",
       "      <td>250</td>\n",
       "      <td>Yes</td>\n",
       "      <td>RWD</td>\n",
       "      <td>Type 2 CCS</td>\n",
       "      <td>Hatchback</td>\n",
       "      <td>C</td>\n",
       "      <td>5</td>\n",
       "      <td>30000</td>\n",
       "    </tr>\n",
       "    <tr>\n",
       "      <th>2</th>\n",
       "      <td>Polestar</td>\n",
       "      <td>2</td>\n",
       "      <td>4.7</td>\n",
       "      <td>210</td>\n",
       "      <td>400</td>\n",
       "      <td>181</td>\n",
       "      <td>620</td>\n",
       "      <td>Yes</td>\n",
       "      <td>AWD</td>\n",
       "      <td>Type 2 CCS</td>\n",
       "      <td>Liftback</td>\n",
       "      <td>D</td>\n",
       "      <td>5</td>\n",
       "      <td>56440</td>\n",
       "    </tr>\n",
       "    <tr>\n",
       "      <th>3</th>\n",
       "      <td>BMW</td>\n",
       "      <td>iX3</td>\n",
       "      <td>6.8</td>\n",
       "      <td>180</td>\n",
       "      <td>360</td>\n",
       "      <td>206</td>\n",
       "      <td>560</td>\n",
       "      <td>Yes</td>\n",
       "      <td>RWD</td>\n",
       "      <td>Type 2 CCS</td>\n",
       "      <td>SUV</td>\n",
       "      <td>D</td>\n",
       "      <td>5</td>\n",
       "      <td>68040</td>\n",
       "    </tr>\n",
       "    <tr>\n",
       "      <th>4</th>\n",
       "      <td>Honda</td>\n",
       "      <td>e</td>\n",
       "      <td>9.5</td>\n",
       "      <td>145</td>\n",
       "      <td>170</td>\n",
       "      <td>168</td>\n",
       "      <td>190</td>\n",
       "      <td>Yes</td>\n",
       "      <td>RWD</td>\n",
       "      <td>Type 2 CCS</td>\n",
       "      <td>Hatchback</td>\n",
       "      <td>B</td>\n",
       "      <td>4</td>\n",
       "      <td>32997</td>\n",
       "    </tr>\n",
       "  </tbody>\n",
       "</table>\n",
       "</div>"
      ],
      "text/plain": [
       "         Brand                          Model  AccelSec  TopSpeed_KmH  \\\n",
       "0       Tesla   Model 3 Long Range Dual Motor       4.6           233   \n",
       "1  Volkswagen                       ID.3 Pure      10.0           160   \n",
       "2    Polestar                               2       4.7           210   \n",
       "3         BMW                            iX3        6.8           180   \n",
       "4       Honda                              e        9.5           145   \n",
       "\n",
       "   Range_Km  Efficiency_WhKm FastCharge_KmH RapidCharge PowerTrain  \\\n",
       "0       450              161            940         Yes        AWD   \n",
       "1       270              167            250         Yes        RWD   \n",
       "2       400              181            620         Yes        AWD   \n",
       "3       360              206            560         Yes        RWD   \n",
       "4       170              168            190         Yes        RWD   \n",
       "\n",
       "     PlugType  BodyStyle Segment  Seats  PriceEuro  \n",
       "0  Type 2 CCS      Sedan       D      5      55480  \n",
       "1  Type 2 CCS  Hatchback       C      5      30000  \n",
       "2  Type 2 CCS   Liftback       D      5      56440  \n",
       "3  Type 2 CCS        SUV       D      5      68040  \n",
       "4  Type 2 CCS  Hatchback       B      4      32997  "
      ]
     },
     "execution_count": 21,
     "metadata": {},
     "output_type": "execute_result"
    }
   ],
   "source": [
    "data.head()"
   ]
  },
  {
   "cell_type": "markdown",
   "metadata": {
    "id": "rA23aFaJ38gc"
   },
   "source": [
    "### Encode string variables"
   ]
  },
  {
   "cell_type": "code",
   "execution_count": 25,
   "metadata": {
    "id": "XWqGjWes4BW5"
   },
   "outputs": [
    {
     "name": "stdout",
     "output_type": "stream",
     "text": [
      "    Brand  Model  AccelSec  TopSpeed_KmH  Range_Km  Efficiency_WhKm  \\\n",
      "84     18     22      10.0           140       330              273   \n",
      "79     24     68       3.2           260       390              215   \n",
      "40     30     49       3.8           250       515              184   \n",
      "44     26     45      12.3           130       195              166   \n",
      "78      8     58       6.0           180       340              206   \n",
      "90      1     93       4.5           210       320              270   \n",
      "98     20      6       7.5           160       330              191   \n",
      "11     20     39       7.9           144       220              164   \n",
      "69      8     56       6.0           180       430              209   \n",
      "30      1     90       6.8           190       280              231   \n",
      "\n",
      "   FastCharge_KmH  RapidCharge  PowerTrain  PlugType  BodyStyle  Segment  \\\n",
      "84            290            1           1         2          5        6   \n",
      "79            810            1           0         2          7        5   \n",
      "40            560            1           0         1          2        5   \n",
      "44            170            1           1         2          1        0   \n",
      "78            360            1           0         2          6        3   \n",
      "90            510            1           0         2          6        4   \n",
      "98            440            1           1         2          1        2   \n",
      "11            230            1           1         3          1        2   \n",
      "69            410            1           0         2          6        3   \n",
      "30            450            1           0         2          6        4   \n",
      "\n",
      "    Seats  PriceEuro  \n",
      "84      7      70631  \n",
      "79      4     148301  \n",
      "40      5      79990  \n",
      "44      4      20129  \n",
      "78      5      54000  \n",
      "90      5      93800  \n",
      "98      5      45000  \n",
      "11      5      29234  \n",
      "69      5      62900  \n",
      "30      5      67358  \n"
     ]
    }
   ],
   "source": [
    "from sklearn.preprocessing import LabelEncoder\n",
    "\n",
    "columns_to_encode = ['Brand', 'Model', 'RapidCharge', 'PowerTrain', 'PlugType', 'BodyStyle', 'Segment']\n",
    "\n",
    "label_encoders = {}\n",
    "for col in columns_to_encode:\n",
    "    label_encoders[col] = LabelEncoder()\n",
    "    data[col] = label_encoders[col].fit_transform(data[col])\n",
    "\n",
    "print(data.sample(10))\n"
   ]
  },
  {
   "cell_type": "markdown",
   "metadata": {
    "id": "ZaeQsLIV4CS5"
   },
   "source": [
    "## Split the dataset for training and testing in ratio 80:20"
   ]
  },
  {
   "cell_type": "code",
   "execution_count": 31,
   "metadata": {
    "id": "zCVY_u5a5bIq"
   },
   "outputs": [
    {
     "name": "stdout",
     "output_type": "stream",
     "text": [
      "82\n",
      "21\n"
     ]
    }
   ],
   "source": [
    "from sklearn.model_selection import train_test_split\n",
    "\n",
    "X = data.drop('PriceEuro', axis=1)\n",
    "y = data['PriceEuro']\n",
    "\n",
    "X_train, X_test, y_train, y_test = train_test_split(X, y, test_size=0.2, random_state=42)\n",
    "\n",
    "print(X_train.shape[0])\n",
    "print(X_test.shape[0])\n"
   ]
  },
  {
   "cell_type": "markdown",
   "metadata": {
    "id": "MAwYp-8O5ieU"
   },
   "source": [
    "## Initialize the DecisionTreeRegressor model, and use the fit function for training the model.\n",
    "\n",
    "Add values for the parameters max_depth, min_samples_split, and max_features."
   ]
  },
  {
   "cell_type": "markdown",
   "metadata": {
    "id": "GkrmN30657S6"
   },
   "source": [
    "Fit the model using the fit function\n"
   ]
  },
  {
   "cell_type": "code",
   "execution_count": 49,
   "metadata": {
    "id": "L1av3xed55AX",
    "scrolled": true
   },
   "outputs": [
    {
     "name": "stdout",
     "output_type": "stream",
     "text": [
      "Model trained\n"
     ]
    }
   ],
   "source": [
    "from sklearn.tree import DecisionTreeRegressor\n",
    "\n",
    "data.replace('-', pd.NA, inplace=True)\n",
    "\n",
    "data = data.apply(pd.to_numeric, errors='coerce')\n",
    "\n",
    "data.dropna(inplace=True)\n",
    "\n",
    "regressor = DecisionTreeRegressor(max_depth=5, min_samples_split=10, max_features='sqrt', random_state=42)\n",
    "regressor.fit(X_train, y_train)\n",
    "\n",
    "print(\"Model trained\")\n"
   ]
  },
  {
   "cell_type": "markdown",
   "metadata": {
    "id": "PUosxgf-59z0"
   },
   "source": [
    "## Predict the outcomes for X test"
   ]
  },
  {
   "cell_type": "code",
   "execution_count": 51,
   "metadata": {
    "id": "xCHgJ9kc5_u5"
   },
   "outputs": [
    {
     "name": "stdout",
     "output_type": "stream",
     "text": [
      "[ 54772.8         86345.          77933.33333333  33240.2\n",
      "  33240.2         71614.33333333 151020.5         71614.33333333\n",
      "  54772.8         86345.        ]\n"
     ]
    }
   ],
   "source": [
    "y_pred = regressor.predict(X_test)\n",
    "\n",
    "print(y_pred[:10])"
   ]
  },
  {
   "cell_type": "markdown",
   "metadata": {
    "id": "vSwumlmu6ADR"
   },
   "source": [
    "## Assess the model performance, by using sklearn metrics for regression"
   ]
  },
  {
   "cell_type": "code",
   "execution_count": 59,
   "metadata": {
    "id": "LKkc6JJP6B_B"
   },
   "outputs": [
    {
     "name": "stdout",
     "output_type": "stream",
     "text": [
      "11522.79\n",
      "320270818.76\n",
      "17896.11\n",
      "0.54\n"
     ]
    }
   ],
   "source": [
    "from sklearn.metrics import mean_absolute_error, mean_squared_error, r2_score\n",
    "import numpy as np\n",
    "\n",
    "y_pred = regressor.predict(X_test)\n",
    "\n",
    "mae = mean_absolute_error(y_test, y_pred)\n",
    "\n",
    "mse = mean_squared_error(y_test, y_pred)\n",
    "\n",
    "rmse = np.sqrt(mse)\n",
    "\n",
    "r2 = r2_score(y_test, y_pred)\n",
    "\n",
    "print(f'{mae:.2f}')\n",
    "print(f'{mse:.2f}')\n",
    "print(f'{rmse:.2f}')\n",
    "print(f'{r2:.2f}')\n"
   ]
  },
  {
   "cell_type": "markdown",
   "metadata": {
    "id": "5R3RhfE86E8Y"
   },
   "source": [
    "## Initialize the XGBRegressor model, and use the fit function"
   ]
  },
  {
   "cell_type": "markdown",
   "metadata": {
    "id": "D1-1GuOW6Pd5"
   },
   "source": [
    "Add values for the parameters: n_estimators, max_depth, learning_rate, and set the objective to \"reg:squarederror\""
   ]
  },
  {
   "cell_type": "markdown",
   "metadata": {
    "id": "yCnhvQSO6kzL"
   },
   "source": [
    "Fit the model using the fit function"
   ]
  },
  {
   "cell_type": "code",
   "execution_count": 82,
   "metadata": {
    "id": "GgmmDDSs6PKH"
   },
   "outputs": [
    {
     "name": "stdout",
     "output_type": "stream",
     "text": [
      "XGBRegressor model trained\n"
     ]
    }
   ],
   "source": [
    "from xgboost import XGBRegressor\n",
    "\n",
    "xgb_regressor = XGBRegressor(\n",
    "    n_estimators=100,\n",
    "    max_depth=5,\n",
    "    learning_rate=0.1,\n",
    "    objective='reg:squarederror',\n",
    "    random_state=42\n",
    ")\n",
    "\n",
    "\n",
    "xgb_regressor.fit(X_train, y_train)\n",
    "\n",
    "print(\"XGBRegressor model trained\")"
   ]
  },
  {
   "cell_type": "markdown",
   "metadata": {
    "id": "FltYcNCS6noz"
   },
   "source": [
    "## Predict the outcomes for X test"
   ]
  },
  {
   "cell_type": "code",
   "execution_count": 80,
   "metadata": {
    "id": "VTqn6Xms6n6C"
   },
   "outputs": [
    {
     "name": "stdout",
     "output_type": "stream",
     "text": [
      "[68486.43  98919.805 93047.766 36278.867 37877.38  67516.09  95424.35\n",
      " 74133.19  63336.523 68401.56  39122.97  59437.664 97432.086 35158.863\n",
      " 24412.7   36144.52  34212.402 35592.176 39282.96  33915.99 ]\n"
     ]
    }
   ],
   "source": [
    "y_pred = xgb_regressor.predict(X_test)\n",
    "\n",
    "print(y_pred)"
   ]
  },
  {
   "cell_type": "markdown",
   "metadata": {
    "id": "OQ38frvF6oeb"
   },
   "source": [
    "## Assess the model performance, by using sklearn metrics for regression"
   ]
  },
  {
   "cell_type": "code",
   "execution_count": 78,
   "metadata": {
    "id": "7E76dwNa6qfS"
   },
   "outputs": [
    {
     "name": "stdout",
     "output_type": "stream",
     "text": [
      "5614.06\n",
      "52808744.49\n",
      "7266.96\n",
      "0.92\n"
     ]
    }
   ],
   "source": [
    "y_pred = xgb_regressor.predict(X_test)\n",
    "\n",
    "mae = mean_absolute_error(y_test, y_pred)\n",
    "mse = mean_squared_error(y_test, y_pred)\n",
    "rmse = np.sqrt(mse)\n",
    "r2 = r2_score(y_test, y_pred)\n",
    "\n",
    "print(f'{mae:.2f}')\n",
    "print(f'{mse:.2f}')\n",
    "print(f'{rmse:.2f}')\n",
    "print(f'{r2:.2f}')"
   ]
  },
  {
   "cell_type": "markdown",
   "metadata": {
    "id": "0axT9BpB6q5p"
   },
   "source": [
    "## Compare the performances of both model for at least three regression metircs"
   ]
  },
  {
   "cell_type": "code",
   "execution_count": 86,
   "metadata": {
    "id": "pXwNpoBn6xM-"
   },
   "outputs": [
    {
     "name": "stdout",
     "output_type": "stream",
     "text": [
      "DecisionTreeRegressor Performance:\n",
      "MAE: 11522.793333333331\n",
      "MSE: 320270818.7596667\n",
      "RMS: 17896.111833570627\n",
      "R²: 0.5413057824070179\n",
      "\n",
      "XGBRegressor Performance:\n",
      "MAE: 5614.0642578125\n",
      "MSE: 52808744.48911057\n",
      "RMSE: 7266.962535276383\n",
      "R²: 0.9243669509887695\n"
     ]
    }
   ],
   "source": [
    "y_pred_dt = regressor.predict(X_test)\n",
    "\n",
    "mae_dt = mean_absolute_error(y_test, y_pred_dt)\n",
    "mse_dt = mean_squared_error(y_test, y_pred_dt)\n",
    "rmse_dt = np.sqrt(mse_dt)\n",
    "r2_dt = r2_score(y_test, y_pred_dt)\n",
    "\n",
    "y_pred_xgb = xgb_regressor.predict(X_test)\n",
    "\n",
    "mae_xgb = mean_absolute_error(y_test, y_pred_xgb)\n",
    "mse_xgb = mean_squared_error(y_test, y_pred_xgb)\n",
    "rmse_xgb = np.sqrt(mse_xgb)\n",
    "r2_xgb = r2_score(y_test, y_pred_xgb)\n",
    "\n",
    "print(\"DecisionTreeRegressor Performance:\")\n",
    "print(f\"MAE: {mae_dt}\")\n",
    "print(f\"MSE: {mse_dt}\")\n",
    "print(f\"RMS: {rmse_dt}\")\n",
    "print(f\"R²: {r2_dt}\")\n",
    "\n",
    "print(\"\\nXGBRegressor Performance:\")\n",
    "print(f\"MAE: {mae_xgb}\")\n",
    "print(f\"MSE: {mse_xgb}\")\n",
    "print(f\"RMSE: {rmse_xgb}\")\n",
    "print(f\"R²: {r2_xgb}\")\n"
   ]
  }
 ],
 "metadata": {
  "colab": {
   "authorship_tag": "ABX9TyMLXw5/u9Z/V2+I0rTjh7fw",
   "include_colab_link": true,
   "provenance": []
  },
  "kernelspec": {
   "display_name": "lab3_191521",
   "language": "python",
   "name": "lab3_191521"
  },
  "language_info": {
   "codemirror_mode": {
    "name": "ipython",
    "version": 3
   },
   "file_extension": ".py",
   "mimetype": "text/x-python",
   "name": "python",
   "nbconvert_exporter": "python",
   "pygments_lexer": "ipython3",
   "version": "3.12.7"
  }
 },
 "nbformat": 4,
 "nbformat_minor": 4
}
